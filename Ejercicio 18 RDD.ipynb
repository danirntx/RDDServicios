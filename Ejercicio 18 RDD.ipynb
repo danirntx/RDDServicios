{
 "cells": [
  {
   "cell_type": "code",
   "execution_count": 2,
   "metadata": {},
   "outputs": [
    {
     "name": "stdout",
     "output_type": "stream",
     "text": [
      "<pyspark.context.SparkContext object at 0x7feba4046630>\n"
     ]
    }
   ],
   "source": [
    "print(sc)"
   ]
  },
  {
   "cell_type": "code",
   "execution_count": 7,
   "metadata": {},
   "outputs": [],
   "source": [
    "\"\"\"\n",
    "Dada una lista de usuarios y sus hobbies indicar los hobbies de cada uno y el que no tenga se lista sin ellos\n",
    "\"\"\"\n",
    "\n",
    "persona=sc.parallelize([(0,'Dani'),(1,'Jesus'),(2,'Manuel'),(3,'Emilio'),(4,'Marcos')])\n",
    "hobbie=sc.parallelize([(0,'Series'),(2,'Vapeo'),(3,'Vapeo'),(0,'Juegos'),(1,'Gym'),(2,'Juegos'),(1,'Colacao'),(2,'Colacao'),(0,'Cacaolat'),(3,'Colacao')])\n",
    "\n",
    "prueba = persona.fullOuterJoin(hobbie).collect()\n",
    "\n"
   ]
  },
  {
   "cell_type": "code",
   "execution_count": 8,
   "metadata": {},
   "outputs": [
    {
     "name": "stdout",
     "output_type": "stream",
     "text": [
      "[(0, ('Dani', 'Series')), (0, ('Dani', 'Juegos')), (0, ('Dani', 'Cacaolat')), (4, ('Marcos', None)), (1, ('Jesus', 'Gym')), (1, ('Jesus', 'Colacao')), (2, ('Manuel', 'Vapeo')), (2, ('Manuel', 'Juegos')), (2, ('Manuel', 'Colacao')), (3, ('Emilio', 'Vapeo')), (3, ('Emilio', 'Colacao'))]\n"
     ]
    }
   ],
   "source": [
    "print(prueba)"
   ]
  },
  {
   "cell_type": "code",
   "execution_count": null,
   "metadata": {},
   "outputs": [],
   "source": []
  }
 ],
 "metadata": {
  "kernelspec": {
   "display_name": "Python 3",
   "language": "python",
   "name": "python3"
  },
  "language_info": {
   "codemirror_mode": {
    "name": "ipython",
    "version": 3
   },
   "file_extension": ".py",
   "mimetype": "text/x-python",
   "name": "python",
   "nbconvert_exporter": "python",
   "pygments_lexer": "ipython3",
   "version": "3.5.6"
  }
 },
 "nbformat": 4,
 "nbformat_minor": 2
}
