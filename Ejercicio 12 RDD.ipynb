{
 "cells": [
  {
   "cell_type": "code",
   "execution_count": 1,
   "metadata": {},
   "outputs": [
    {
     "name": "stdout",
     "output_type": "stream",
     "text": [
      "<pyspark.context.SparkContext object at 0x7f8b85bc63c8>\n"
     ]
    }
   ],
   "source": [
    "print(sc)"
   ]
  },
  {
   "cell_type": "code",
   "execution_count": 33,
   "metadata": {},
   "outputs": [],
   "source": [
    "\"\"\"\n",
    "A continuación devolver los años en los que estas temperaturas fueron más bajas\n",
    "Devolver las tres temperaturas más bajas (bajo cero)\n",
    "Lo mismo pero la tres más altas (bajo cero):\n",
    "\"\"\"\n",
    "\n",
    "temperaturas = sc.parallelize([(2010,-5),(2011,10),(2012,-3),(2013,-9),(2014,-4),(2015,8),(2016,-1),(2017,-3),(2018,-7)])"
   ]
  },
  {
   "cell_type": "code",
   "execution_count": 57,
   "metadata": {},
   "outputs": [
    {
     "name": "stdout",
     "output_type": "stream",
     "text": [
      "[(2010, -5), (2012, -3), (2013, -9), (2014, -4), (2016, -1), (2017, -3), (2018, -7)]\n"
     ]
    }
   ],
   "source": [
    "temperaturasbajocero = temperaturas.filter(lambda x: x[1] < 0).collect()\n",
    "print(temperaturasbajocero)"
   ]
  },
  {
   "cell_type": "code",
   "execution_count": 58,
   "metadata": {},
   "outputs": [
    {
     "name": "stdout",
     "output_type": "stream",
     "text": [
      "[(2010, -5), (2012, -3), (2013, -9)]\n"
     ]
    }
   ],
   "source": [
    "masbajas = temperaturas.takeOrdered(3, key=lambda x: -x[1]<0 )\n",
    "print(masbajas)"
   ]
  },
  {
   "cell_type": "code",
   "execution_count": 46,
   "metadata": {},
   "outputs": [
    {
     "name": "stdout",
     "output_type": "stream",
     "text": [
      "[(2013, -9), (2018, -7), (2010, -5)]\n"
     ]
    }
   ],
   "source": [
    "masaltas = temperaturas.takeOrdered(3, key=lambda x: x[1])\n",
    "print(masaltas)"
   ]
  },
  {
   "cell_type": "code",
   "execution_count": null,
   "metadata": {},
   "outputs": [],
   "source": []
  }
 ],
 "metadata": {
  "kernelspec": {
   "display_name": "Python 3",
   "language": "python",
   "name": "python3"
  },
  "language_info": {
   "codemirror_mode": {
    "name": "ipython",
    "version": 3
   },
   "file_extension": ".py",
   "mimetype": "text/x-python",
   "name": "python",
   "nbconvert_exporter": "python",
   "pygments_lexer": "ipython3",
   "version": "3.5.6"
  }
 },
 "nbformat": 4,
 "nbformat_minor": 2
}
