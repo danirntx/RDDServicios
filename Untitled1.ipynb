{
 "cells": [
  {
   "cell_type": "code",
   "execution_count": 6,
   "metadata": {},
   "outputs": [
    {
     "name": "stdout",
     "output_type": "stream",
     "text": [
      "<pyspark.context.SparkContext object at 0x7fc80cd55630>\n"
     ]
    }
   ],
   "source": [
    "print(sc)"
   ]
  },
  {
   "cell_type": "code",
   "execution_count": 15,
   "metadata": {},
   "outputs": [],
   "source": [
    "\"\"\"\n",
    "Vamos a partir de un archivo que va a contener información de los aeropuertos:\n",
    "Identificativo del aeropuerto, nombre, ciudad, país, latitud, altitud, longitud,zona horaria...\n",
    "Devolver los aeropuertos de España con su ciudad y nombre. Posteriormente guardarlos en un archivo.\n",
    "Devolver el nombre y la latitud del aeropuerto para aquellos que estén en una latitud mayor de 40.\n",
    "Posteriormente guardarlos en un archivo.\n",
    "\"\"\"\n",
    "\n",
    "from pyspark.sql import Row\n",
    "\n",
    "datos = sc.textFile('aeropuertos.txt').map(lambda line: line.split(\",\")).map(lambda x: Row(ciudad=x[0],\n",
    "siglas=x[1],pais=x[2],latitud=int(x[3]),altitud=int(x[4]),longitud=int(x[5]),horario=x[6])).collect()\n",
    "\n"
   ]
  },
  {
   "cell_type": "code",
   "execution_count": 16,
   "metadata": {},
   "outputs": [],
   "source": [
    "df = sqlContext.createDataFrame(datos)\n",
    "sqlContext.registerDataFrameAsTable(df,'aeropuertos')\n",
    "df.registerTempTable('aeropuertos')"
   ]
  },
  {
   "cell_type": "code",
   "execution_count": 17,
   "metadata": {},
   "outputs": [
    {
     "name": "stdout",
     "output_type": "stream",
     "text": [
      "+---------+------+\n",
      "|   ciudad|siglas|\n",
      "+---------+------+\n",
      "|Barcelona|   BCN|\n",
      "|  Vaperum|   VPR|\n",
      "+---------+------+\n",
      "\n"
     ]
    }
   ],
   "source": [
    "spain=sqlContext.sql(\"Select ciudad,siglas from aeropuertos where pais='Espana'\")\n",
    "spain.show()"
   ]
  },
  {
   "cell_type": "code",
   "execution_count": 18,
   "metadata": {},
   "outputs": [
    {
     "name": "stdout",
     "output_type": "stream",
     "text": [
      "+---------+-------+\n",
      "|   ciudad|latitud|\n",
      "+---------+-------+\n",
      "|Barcelona|     74|\n",
      "|Croissant|     60|\n",
      "|   Adolfo|     60|\n",
      "+---------+-------+\n",
      "\n"
     ]
    }
   ],
   "source": [
    "latitud=sqlContext.sql(\"Select ciudad,latitud from aeropuertos where latitud>40\")\n",
    "latitud.show()"
   ]
  },
  {
   "cell_type": "code",
   "execution_count": null,
   "metadata": {},
   "outputs": [],
   "source": []
  }
 ],
 "metadata": {
  "kernelspec": {
   "display_name": "Python 3",
   "language": "python",
   "name": "python3"
  },
  "language_info": {
   "codemirror_mode": {
    "name": "ipython",
    "version": 3
   },
   "file_extension": ".py",
   "mimetype": "text/x-python",
   "name": "python",
   "nbconvert_exporter": "python",
   "pygments_lexer": "ipython3",
   "version": "3.5.6"
  }
 },
 "nbformat": 4,
 "nbformat_minor": 2
}
