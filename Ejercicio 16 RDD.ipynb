{
 "cells": [
  {
   "cell_type": "code",
   "execution_count": 2,
   "metadata": {},
   "outputs": [
    {
     "name": "stdout",
     "output_type": "stream",
     "text": [
      "<pyspark.context.SparkContext object at 0x7feba4046630>\n"
     ]
    }
   ],
   "source": [
    "print(sc)"
   ]
  },
  {
   "cell_type": "code",
   "execution_count": 8,
   "metadata": {},
   "outputs": [],
   "source": [
    "\"\"\"\n",
    "Dada una lista de palabras prohibidas y un fichero de texto. Ver las veces que aparece cada palabra en el archivo descontando las palabras prohibidas.\n",
    "\"\"\"\n",
    "\n",
    "prohibidas=('dani','susana')\n",
    "filtro = sc.textFile('contar.txt').flatMap(lambda x: x.split(' '))"
   ]
  },
  {
   "cell_type": "code",
   "execution_count": 11,
   "metadata": {},
   "outputs": [],
   "source": [
    "contar = filtro.filter(lambda x: x not in prohibidas).map(lambda x: (x,1)).reduceByKey(lambda x, y: x + y).collect()"
   ]
  },
  {
   "cell_type": "code",
   "execution_count": 12,
   "metadata": {},
   "outputs": [
    {
     "name": "stdout",
     "output_type": "stream",
     "text": [
      "[('el', 1), ('consigo', 1), ('si', 1), ('esto', 1), ('prueba', 1), ('y', 1), ('para', 1), ('hola', 1), ('rdd', 1), ('llamo', 1), ('firmado', 1), ('a', 1), ('me', 1), ('aprobar', 1), ('es', 1), ('de', 2), ('ejercicio', 1), ('una', 1), ('ver', 1)]\n"
     ]
    }
   ],
   "source": [
    "print(contar)"
   ]
  },
  {
   "cell_type": "code",
   "execution_count": null,
   "metadata": {},
   "outputs": [],
   "source": []
  }
 ],
 "metadata": {
  "kernelspec": {
   "display_name": "Python 3",
   "language": "python",
   "name": "python3"
  },
  "language_info": {
   "codemirror_mode": {
    "name": "ipython",
    "version": 3
   },
   "file_extension": ".py",
   "mimetype": "text/x-python",
   "name": "python",
   "nbconvert_exporter": "python",
   "pygments_lexer": "ipython3",
   "version": "3.5.6"
  }
 },
 "nbformat": 4,
 "nbformat_minor": 2
}
