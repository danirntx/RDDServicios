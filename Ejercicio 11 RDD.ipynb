{
 "cells": [
  {
   "cell_type": "code",
   "execution_count": 6,
   "metadata": {},
   "outputs": [
    {
     "name": "stdout",
     "output_type": "stream",
     "text": [
      "<pyspark.context.SparkContext object at 0x7fc80cd55630>\n"
     ]
    }
   ],
   "source": [
    "print(sc)"
   ]
  },
  {
   "cell_type": "code",
   "execution_count": 1,
   "metadata": {},
   "outputs": [],
   "source": [
    "\"\"\"\n",
    "A partir de una lista (par, valor) en la que par es el año y valor la temperatura\n",
    "alcanzada ese año en grados Celsius, hacer una transformación que pase dicha\n",
    "temperatura a grados Fahrenheit (o al revés).\n",
    "\"\"\"\n",
    "\n",
    "temperaturas = sc.parallelize([(2010,12),(2011,10),(2012,-14),(2013,18),(2014,-4),(2015,15),(2016,-1),(2017,20),(2018,-7)])\n",
    "farenheit = temperaturas.mapValues(lambda x: x *(9 / 5) + 32).collect()"
   ]
  },
  {
   "cell_type": "code",
   "execution_count": 2,
   "metadata": {},
   "outputs": [
    {
     "name": "stdout",
     "output_type": "stream",
     "text": [
      "[(2010, 53.6), (2011, 50.0), (2012, 6.800000000000001), (2013, 64.4), (2014, 24.8), (2015, 59.0), (2016, 30.2), (2017, 68.0), (2018, 19.4)]\n"
     ]
    }
   ],
   "source": [
    "print(farenheit)"
   ]
  },
  {
   "cell_type": "code",
   "execution_count": null,
   "metadata": {},
   "outputs": [],
   "source": []
  }
 ],
 "metadata": {
  "kernelspec": {
   "display_name": "Python 3",
   "language": "python",
   "name": "python3"
  },
  "language_info": {
   "codemirror_mode": {
    "name": "ipython",
    "version": 3
   },
   "file_extension": ".py",
   "mimetype": "text/x-python",
   "name": "python",
   "nbconvert_exporter": "python",
   "pygments_lexer": "ipython3",
   "version": "3.5.6"
  }
 },
 "nbformat": 4,
 "nbformat_minor": 2
}
