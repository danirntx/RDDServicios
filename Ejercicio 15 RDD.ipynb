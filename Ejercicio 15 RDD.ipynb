{
 "cells": [
  {
   "cell_type": "code",
   "execution_count": 2,
   "metadata": {},
   "outputs": [
    {
     "name": "stdout",
     "output_type": "stream",
     "text": [
      "<pyspark.context.SparkContext object at 0x7feba4046630>\n"
     ]
    }
   ],
   "source": [
    "print(sc)"
   ]
  },
  {
   "cell_type": "code",
   "execution_count": 7,
   "metadata": {},
   "outputs": [
    {
     "name": "stdout",
     "output_type": "stream",
     "text": [
      "[(21, 'España'), (11, 'Italia'), (4, 'Portugal'), (18, 'Alemania')]\n"
     ]
    }
   ],
   "source": [
    "\"\"\"\n",
    "Dada una lista de países y su impuesto de valor añadido (iva) incrementar todos ellos un 2%\n",
    "\"\"\"\n",
    "\n",
    "paisesiva=sc.parallelize(([(21,'España'),(11,'Italia'),(4,'Portugal'),(18,'Alemania')])).collect()\n",
    "print(paisesiva)"
   ]
  },
  {
   "cell_type": "code",
   "execution_count": 8,
   "metadata": {},
   "outputs": [
    {
     "name": "stdout",
     "output_type": "stream",
     "text": [
      "España\n",
      "21.42\n",
      "Italia\n",
      "11.22\n",
      "Portugal\n",
      "4.08\n",
      "Alemania\n",
      "18.36\n"
     ]
    }
   ],
   "source": [
    "for x in paisesiva:\n",
    "    iva=(x[0]+(x[0]*0.02))\n",
    "    print(x[1])\n",
    "    print(iva)"
   ]
  },
  {
   "cell_type": "code",
   "execution_count": null,
   "metadata": {},
   "outputs": [],
   "source": []
  }
 ],
 "metadata": {
  "kernelspec": {
   "display_name": "Python 3",
   "language": "python",
   "name": "python3"
  },
  "language_info": {
   "codemirror_mode": {
    "name": "ipython",
    "version": 3
   },
   "file_extension": ".py",
   "mimetype": "text/x-python",
   "name": "python",
   "nbconvert_exporter": "python",
   "pygments_lexer": "ipython3",
   "version": "3.5.6"
  }
 },
 "nbformat": 4,
 "nbformat_minor": 2
}
