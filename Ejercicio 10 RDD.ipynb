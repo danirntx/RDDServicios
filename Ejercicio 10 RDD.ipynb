{
 "cells": [
  {
   "cell_type": "code",
   "execution_count": 6,
   "metadata": {},
   "outputs": [
    {
     "name": "stdout",
     "output_type": "stream",
     "text": [
      "<pyspark.context.SparkContext object at 0x7fc80cd55630>\n"
     ]
    }
   ],
   "source": [
    "print(sc)"
   ]
  },
  {
   "cell_type": "code",
   "execution_count": 1,
   "metadata": {},
   "outputs": [],
   "source": [
    "\"\"\"\n",
    "En una lista de nombres devolver aquellos que contiene una letra dada.\n",
    "\"\"\"\n",
    "\n",
    "listanombres = sc.parallelize([\"daniel\",\"jesus\",\"manuel\",\"emilio\",\"marcos\",\"sherezade\",\"jhon\",\"avelino\",\"susana\"]).collect()"
   ]
  },
  {
   "cell_type": "code",
   "execution_count": 3,
   "metadata": {},
   "outputs": [
    {
     "name": "stdout",
     "output_type": "stream",
     "text": [
      "daniel\n",
      "manuel\n",
      "marcos\n",
      "sherezade\n",
      "avelino\n",
      "susana\n"
     ]
    }
   ],
   "source": [
    "for x in listanombres:\n",
    "    letra=\"a\"\n",
    "    if letra in x:\n",
    "        print(x)"
   ]
  },
  {
   "cell_type": "code",
   "execution_count": null,
   "metadata": {},
   "outputs": [],
   "source": []
  }
 ],
 "metadata": {
  "kernelspec": {
   "display_name": "Python 3",
   "language": "python",
   "name": "python3"
  },
  "language_info": {
   "codemirror_mode": {
    "name": "ipython",
    "version": 3
   },
   "file_extension": ".py",
   "mimetype": "text/x-python",
   "name": "python",
   "nbconvert_exporter": "python",
   "pygments_lexer": "ipython3",
   "version": "3.5.6"
  }
 },
 "nbformat": 4,
 "nbformat_minor": 2
}
