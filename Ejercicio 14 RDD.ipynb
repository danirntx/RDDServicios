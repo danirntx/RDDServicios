{
 "cells": [
  {
   "cell_type": "code",
   "execution_count": 2,
   "metadata": {},
   "outputs": [
    {
     "name": "stdout",
     "output_type": "stream",
     "text": [
      "<pyspark.context.SparkContext object at 0x7feba4046630>\n"
     ]
    }
   ],
   "source": [
    "print(sc)"
   ]
  },
  {
   "cell_type": "code",
   "execution_count": 6,
   "metadata": {},
   "outputs": [
    {
     "name": "stdout",
     "output_type": "stream",
     "text": [
      "10.4\n"
     ]
    }
   ],
   "source": [
    "\"\"\"\n",
    "Dada una lista de temperaturas para distintos países. Calcular la media:\n",
    "\"\"\"\n",
    "\n",
    "def CalcularMediaTemperaturaPaises():\n",
    "    a=0\n",
    "    b=0\n",
    "    for x in temperatura:\n",
    "        a=a+x[1]\n",
    "        b=b+1\n",
    "    print(a/b)\n",
    "temperatura=sc.parallelize(([('Argentina',24),('España',21),('Alemania',7),('Rusia',-10),('Japon',10),]))\\\n",
    "    .collect()\n",
    "CalcularMediaTemperaturaPaises()"
   ]
  },
  {
   "cell_type": "code",
   "execution_count": null,
   "metadata": {},
   "outputs": [],
   "source": []
  }
 ],
 "metadata": {
  "kernelspec": {
   "display_name": "Python 3",
   "language": "python",
   "name": "python3"
  },
  "language_info": {
   "codemirror_mode": {
    "name": "ipython",
    "version": 3
   },
   "file_extension": ".py",
   "mimetype": "text/x-python",
   "name": "python",
   "nbconvert_exporter": "python",
   "pygments_lexer": "ipython3",
   "version": "3.5.6"
  }
 },
 "nbformat": 4,
 "nbformat_minor": 2
}
